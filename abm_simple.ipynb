{
 "cells": [
  {
   "cell_type": "code",
   "execution_count": 2,
   "metadata": {},
   "outputs": [
    {
     "name": "stdout",
     "output_type": "stream",
     "text": [
      "pygame 2.1.2 (SDL 2.0.16, Python 3.10.5)\n",
      "Hello from the pygame community. https://www.pygame.org/contribute.html\n"
     ]
    }
   ],
   "source": []
  },
  {
   "cell_type": "code",
   "execution_count": 7,
   "metadata": {},
   "outputs": [],
   "source": [
    "import numpy as np\n",
    "import matplotlib.pyplot as plt\n",
    "import pygame\n",
    "\n",
    "STR_LENGTH = 10\n",
    "N_AGENTS = 10\n",
    "O_m = list()\n",
    "A_m = list()\n",
    "I_nm = list()\n",
    "            \n",
    "class Agent(object):\n",
    "    def __init__(self, x=np.random.randn(), y=np.random.randn(), dx=0, dy=0, phi=0):\n",
    "        self.x = x\n",
    "        self.y = y\n",
    "        self.dx = dx\n",
    "        self.dy = dy\n",
    "        self.message = np.random.choice(STR_LENGTH, [0, 1])\n",
    "        self.phi = phi #função de atualização de estado\n",
    "        self.state = np.array([x, y, dx, dy, self.message, self.phi])\n",
    "\n",
    "    def update(self, env):\n",
    "        self.state = self.phi(env)\n",
    "        self.x = self.state[0]\n",
    "        self.y = self.state[1]\n",
    "        self.dx = self.state[2]\n",
    "        self.dy = self.state[3]\n",
    "        self.message = self.state[4]\n",
    "        self.phi = self.state[5]\n",
    "    \n",
    "    def phi(self, env):\n",
    "        \n",
    "        mb = env.mb\n",
    "        #process messages\n",
    "\n",
    "        #determine move\n",
    "\n",
    "        #determine message\n",
    "\n",
    "        #update state\n",
    "        self.x = self.x + self.dx\n",
    "        self.y = self.y + self.dy\n",
    "\n",
    "        #possibly update phi\n",
    "        self.phi = self.phi\n",
    "\n",
    "\n",
    "class Environment(object):\n",
    "    def __init__(self, num_agents = 10, o_m = [], a_m = [], i_nm = []):\n",
    "\n",
    "        self.agents = {f\"{i}\": Agent() for i in range(num_agents)}\n",
    "        self.message_board = MessageBoard(agents=self.agents)\n",
    "        self.agents_positions = np.array([np.array([self.agents[f\"i\"].x, self.agents[f\"i\"].y]) for i in range(num_agents)])\n",
    "        self.board = np.zeros((num_agents*3, num_agents*3))\n",
    "\n",
    "    def update_board(self):\n",
    "        self.message_board.update()\n",
    "\n",
    "class MessageBoard(object):\n",
    "    def __init__(self, agents, messages: dict = None):\n",
    "        self.agents=agents\n",
    "        self.messages = messages\n",
    "        if self.messages is not None:\n",
    "            self.messages = {}\n",
    "    def update(self):\n",
    "        for (k, v) in self.agents.items():\n",
    "            self.messages[k] = v.message\n",
    "    def __str__(self):\n",
    "        for i in range(len(self.messages)):\n",
    "            print(self.messages[i])"
   ]
  },
  {
   "cell_type": "code",
   "execution_count": null,
   "metadata": {},
   "outputs": [],
   "source": [
    "mb = MessageBoard()"
   ]
  },
  {
   "cell_type": "code",
   "execution_count": 96,
   "metadata": {},
   "outputs": [],
   "source": [
    "# DIM = 3\n",
    "# CARRIERS = 9\n",
    "NUM_AGENTS = 64\n",
    "NUM_STATES = 3\n",
    "NUM_PERCEPTIONS = 3\n",
    "NUM_ACTIONS = 512\n",
    "NUM_THINGS = 3\n",
    "# Model testing\n",
    "MULT = 2\n",
    "RES = 512\n",
    "\n",
    "def rotate(x, angle): \n",
    "    ca = t.cos(angle)\n",
    "    sa = t.sin(angle)\n",
    "    \n",
    "    return t.cat([ca*x[:,:,:,0:1]+sa*x[:,:,:,1:2], -sa*x[:,:,:,0:1]+ca*x[:,:,:,1:2]], 3)\n",
    "\n",
    "def sigmoid(x):\n",
    "    return 1/(1+np.exp(-0.25 * x))\n",
    "\n",
    "# dim 3 carries the x,y variation\n",
    "def mirror(p):\n",
    "    p = RES-1-p\n",
    "    w1 = t.le(p,0).long()\n",
    "    p = (1-w1)*p + w1*(-p)\n",
    "\n",
    "    p = RES-1-p\n",
    "    w1 = t.le(p,0).long()\n",
    "    p = (1-w1)*p + w1*(-p)\n",
    "    \n",
    "    return p\n",
    "\n",
    "class RadConv(nn.Module):\n",
    "    def __init__(self, NI, radius):\n",
    "        super().__init__()\n",
    "        self.conv = nn.Conv2d(NI, NI, 2*radius+1, padding=radius, padding_mode='circular', bias=None)\n",
    "        \n",
    "        avg_weight = t.zeros_like(self.conv.weight.data)\n",
    "        \n",
    "        for theta in np.arange(0,2*np.pi,np.pi/256.0):\n",
    "            avg_weight += rotate(self.conv.weight.data.detach().clone(), 180*theta/np.pi)/128.0\n",
    "        \n",
    "        avg_weight /= avg_weight.sum(3).sum(2).unsqueeze(2).unsqueeze(3)\n",
    "        \n",
    "        self.conv.weight.data = avg_weight\n",
    "        for i in range(NI):\n",
    "            for j in range(i):\n",
    "                self.conv.weight.data[i,j] = 0\n",
    "                self.conv.weight.data[j,i] = 0\n",
    "    \n",
    "    def forward(self, x):\n",
    "        return self.conv(x)"
   ]
  },
  {
   "cell_type": "code",
   "execution_count": 97,
   "metadata": {},
   "outputs": [
    {
     "data": {
      "text/plain": [
       "torch.Size([512])"
      ]
     },
     "execution_count": 97,
     "metadata": {},
     "output_type": "execute_result"
    }
   ],
   "source": [
    "t.tensor(np.arange(0,2*np.pi,np.pi/256.0)).cuda().shape"
   ]
  },
  {
   "cell_type": "code",
   "execution_count": 123,
   "metadata": {},
   "outputs": [
    {
     "name": "stdout",
     "output_type": "stream",
     "text": [
      "torch.Size([512, 1])\n",
      "512\n",
      "torch.Size([512, 1])\n",
      "torch.Size([512, 2])\n"
     ]
    }
   ],
   "source": [
    "directions = t.tensor([theta for theta in np.arange(0,2*np.pi,np.pi/256.0)]).cuda().view(NUM_ACTIONS, 1); print(directions.shape)\n",
    "num_directions = directions.shape[0]; print(num_directions)\n",
    "speeds = t.tensor([speed for speed in t.rand(num_directions)]).cuda().view(NUM_ACTIONS, 1); print(speeds.shape)\n",
    "actions = t.cat([speeds, directions], 1); print(actions.shape)"
   ]
  },
  {
   "cell_type": "code",
   "execution_count": 124,
   "metadata": {},
   "outputs": [
    {
     "name": "stdout",
     "output_type": "stream",
     "text": [
      "torch.Size([64, 2])\n"
     ]
    }
   ],
   "source": [
    "positions = t.rand(NUM_AGENTS, 2).cuda(); print(positions.shape)"
   ]
  },
  {
   "cell_type": "code",
   "execution_count": 125,
   "metadata": {},
   "outputs": [
    {
     "data": {
      "text/plain": [
       "<matplotlib.collections.PathCollection at 0x7f81fc97eb00>"
      ]
     },
     "execution_count": 125,
     "metadata": {},
     "output_type": "execute_result"
    },
    {
     "data": {
      "image/png": "[encoded data removed]",
      "text/plain": [
       "<Figure size 432x288 with 1 Axes>"
      ]
     },
     "metadata": {
      "needs_background": "light"
     },
     "output_type": "display_data"
    }
   ],
   "source": [
    "plt.scatter(actions.cpu().numpy()[:, 0], actions.cpu().numpy()[:, 1])"
   ]
  },
  {
   "cell_type": "code",
   "execution_count": 126,
   "metadata": {},
   "outputs": [
    {
     "data": {
      "text/plain": [
       "<matplotlib.collections.PathCollection at 0x7f81fc9be1d0>"
      ]
     },
     "execution_count": 126,
     "metadata": {},
     "output_type": "execute_result"
    },
    {
     "data": {
      "image/png": "[encoded data removed]",
      "text/plain": [
       "<Figure size 432x288 with 1 Axes>"
      ]
     },
     "metadata": {
      "needs_background": "light"
     },
     "output_type": "display_data"
    }
   ],
   "source": [
    "plt.scatter(positions.cpu().numpy()[:, 0], positions.cpu().numpy()[:, 1])"
   ]
  },
  {
   "cell_type": "code",
   "execution_count": 144,
   "metadata": {},
   "outputs": [],
   "source": [
    "\n",
    "radius = 5\n",
    "\n",
    "class Agents(nn.Module):\n",
    "    def __init__(self, positions, actions, states = t.rand(NUM_AGENTS, NUM_STATES), perceptions = t.rand(NUM_AGENTS, NUM_PERCEPTIONS), things = t.rand(NUM_THINGS)):\n",
    "        super(Agents, self).__init__()\n",
    "        self.position = positions\n",
    "        self.actions = actions\n",
    "        self.state = states\n",
    "        self.perceptions = perceptions\n",
    "        # self.perceptual_apparatus = RadConv(NUM_AGENTS*NUM_PERCEPTIONS*NUM_STATES*NUM_THINGS*2.0, 9) #things in the environment; other agents states, their perceptions etc; NUM_AGENTS x NUM_STATES x NUM_PERCEPTIONS\n",
    "        self.conv = nn.Conv2d(NUM_AGENTS*NUM_PERCEPTIONS*NUM_STATES*NUM_THINGS*2, NUM_AGENTS*NUM_PERCEPTIONS*NUM_STATES, 2*radius+1, padding=radius, padding_mode='circular', bias=None)\n",
    "        self.fc1 = nn.Linear(NUM_AGENTS*NUM_PERCEPTIONS*NUM_STATES, NUM_AGENTS*NUM_PERCEPTIONS*NUM_STATES)\n",
    "        self.fc2 = nn.Linear(NUM_AGENTS*NUM_PERCEPTIONS*NUM_STATES, NUM_AGENTS*NUM_PERCEPTIONS)\n",
    "        self.fc3 = nn.Linear(NUM_AGENTS*NUM_PERCEPTIONS*NUM_STATES, NUM_AGENTS*NUM_STATES)\n",
    "        self.fc4 = nn.Linear(NUM_AGENTS*NUM_PERCEPTIONS*NUM_STATES, NUM_AGENTS*NUM_ACTIONS)\n",
    "        \n",
    "    def forward(self, x):\n",
    "        x = F.relu(self.fc1(x))\n",
    "        self.perceptions = F.softmin(self.fc2(x).view(NUM_AGENTS, NUM_PERCEPTIONS), dim=1)\n",
    "        self.states = F.softmax(self.fc3(x).view(NUM_AGENTS, NUM_STATES), dim=1)\n",
    "        self.actions = F.softmax(self.fc4(x).view(NUM_AGENTS, NUM_ACTIONS), dim=1)\n",
    "        return t.cat([self.perceptions, self.states, self.actions], 1)"
   ]
  },
  {
   "cell_type": "code",
   "execution_count": 145,
   "metadata": {},
   "outputs": [],
   "source": [
    "agents = Agents(positions, actions).cuda()"
   ]
  },
  {
   "cell_type": "code",
   "execution_count": 149,
   "metadata": {},
   "outputs": [
    {
     "data": {
      "text/plain": [
       "(torch.Size([64, 3]), torch.Size([64, 3]), torch.Size([512, 2]))"
      ]
     },
     "execution_count": 149,
     "metadata": {},
     "output_type": "execute_result"
    }
   ],
   "source": [
    "agents.state.shape, agents.perceptions.shape, agents.actions.shape"
   ]
  },
  {
   "cell_type": "code",
   "execution_count": 121,
   "metadata": {},
   "outputs": [],
   "source": [
    "class Environment(nn.Module):\n",
    "    def __init__(self, spatial_contents, env_state, agents):\n",
    "        super(Environment, self).__init__()\n",
    "        self.spatial_contents = spatial_contents\n",
    "        self.state = env_state\n",
    "        self.agents = agents\n",
    "        # self.fc1 = nn.Linear(state, 128)\n",
    "        # self.fc2 = nn.Linear(128, 128)\n",
    "        # self.fc3 = nn.Linear(128, contents)\n",
    "\n",
    "    def forward(self, x):\n",
    "        # x = F.relu(self.fc1(x))\n",
    "        # x = F.relu(self.fc2(x))\n",
    "        # x = self.fc3(x)\n",
    "        return x"
   ]
  },
  {
   "cell_type": "code",
   "execution_count": 122,
   "metadata": {},
   "outputs": [
    {
     "ename": "TypeError",
     "evalue": "empty(): argument 'size' must be tuple of ints, but found element of type float at pos 2",
     "output_type": "error",
     "traceback": [
      "\u001b[0;31m---------------------------------------------------------------------------\u001b[0m",
      "\u001b[0;31mTypeError\u001b[0m                                 Traceback (most recent call last)",
      "\u001b[1;32m/home/istrozzi/Documents/gm-ensemble/gm-ensemble_1.ipynb Cell 12\u001b[0m in \u001b[0;36m<cell line: 1>\u001b[0;34m()\u001b[0m\n\u001b[0;32m----> <a href='vscode-notebook-cell:/home/istrozzi/Documents/gm-ensemble/gm-ensemble_1.ipynb#ch0000014?line=0'>1</a>\u001b[0m agents \u001b[39m=\u001b[39m Agents(positions, actions)\n",
      "\u001b[1;32m/home/istrozzi/Documents/gm-ensemble/gm-ensemble_1.ipynb Cell 12\u001b[0m in \u001b[0;36mAgents.__init__\u001b[0;34m(self, positions, actions, states, perceptions, things)\u001b[0m\n\u001b[1;32m      <a href='vscode-notebook-cell:/home/istrozzi/Documents/gm-ensemble/gm-ensemble_1.ipynb#ch0000014?line=8'>9</a>\u001b[0m \u001b[39mself\u001b[39m\u001b[39m.\u001b[39mperceptions \u001b[39m=\u001b[39m perceptions\n\u001b[1;32m     <a href='vscode-notebook-cell:/home/istrozzi/Documents/gm-ensemble/gm-ensemble_1.ipynb#ch0000014?line=9'>10</a>\u001b[0m \u001b[39m# self.perceptual_apparatus = RadConv(NUM_AGENTS*NUM_PERCEPTIONS*NUM_STATES*NUM_THINGS*2.0, 9) #things in the environment; other agents states, their perceptions etc; NUM_AGENTS x NUM_STATES x NUM_PERCEPTIONS\u001b[39;00m\n\u001b[0;32m---> <a href='vscode-notebook-cell:/home/istrozzi/Documents/gm-ensemble/gm-ensemble_1.ipynb#ch0000014?line=10'>11</a>\u001b[0m \u001b[39mself\u001b[39m\u001b[39m.\u001b[39mconv \u001b[39m=\u001b[39m nn\u001b[39m.\u001b[39;49mConv2d(NUM_AGENTS\u001b[39m*\u001b[39;49mNUM_PERCEPTIONS\u001b[39m*\u001b[39;49mNUM_STATES\u001b[39m*\u001b[39;49mNUM_THINGS\u001b[39m*\u001b[39;49m\u001b[39m2.0\u001b[39;49m, NUM_AGENTS\u001b[39m*\u001b[39;49mNUM_PERCEPTIONS\u001b[39m*\u001b[39;49mNUM_STATES, \u001b[39m2\u001b[39;49m\u001b[39m*\u001b[39;49mradius\u001b[39m+\u001b[39;49m\u001b[39m1\u001b[39;49m, padding\u001b[39m=\u001b[39;49mradius, padding_mode\u001b[39m=\u001b[39;49m\u001b[39m'\u001b[39;49m\u001b[39mcircular\u001b[39;49m\u001b[39m'\u001b[39;49m, bias\u001b[39m=\u001b[39;49m\u001b[39mNone\u001b[39;49;00m)\n\u001b[1;32m     <a href='vscode-notebook-cell:/home/istrozzi/Documents/gm-ensemble/gm-ensemble_1.ipynb#ch0000014?line=11'>12</a>\u001b[0m \u001b[39mself\u001b[39m\u001b[39m.\u001b[39mfc1 \u001b[39m=\u001b[39m nn\u001b[39m.\u001b[39mLinear(NUM_AGENTS\u001b[39m*\u001b[39mNUM_PERCEPTIONS\u001b[39m*\u001b[39mNUM_STATES, NUM_AGENTS\u001b[39m*\u001b[39mNUM_PERCEPTIONS\u001b[39m*\u001b[39mNUM_STATES)\n\u001b[1;32m     <a href='vscode-notebook-cell:/home/istrozzi/Documents/gm-ensemble/gm-ensemble_1.ipynb#ch0000014?line=12'>13</a>\u001b[0m \u001b[39mself\u001b[39m\u001b[39m.\u001b[39mfc2 \u001b[39m=\u001b[39m nn\u001b[39m.\u001b[39mLinear(NUM_AGENTS\u001b[39m*\u001b[39mNUM_PERCEPTIONS\u001b[39m*\u001b[39mNUM_STATES, NUM_AGENTS\u001b[39m*\u001b[39mNUM_PERCEPTIONS)\n",
      "File \u001b[0;32m~/.local/lib/python3.10/site-packages/torch/nn/modules/conv.py:434\u001b[0m, in \u001b[0;36mConv2d.__init__\u001b[0;34m(self, in_channels, out_channels, kernel_size, stride, padding, dilation, groups, bias, padding_mode, device, dtype)\u001b[0m\n\u001b[1;32m    432\u001b[0m padding_ \u001b[39m=\u001b[39m padding \u001b[39mif\u001b[39;00m \u001b[39misinstance\u001b[39m(padding, \u001b[39mstr\u001b[39m) \u001b[39melse\u001b[39;00m _pair(padding)\n\u001b[1;32m    433\u001b[0m dilation_ \u001b[39m=\u001b[39m _pair(dilation)\n\u001b[0;32m--> 434\u001b[0m \u001b[39msuper\u001b[39;49m(Conv2d, \u001b[39mself\u001b[39;49m)\u001b[39m.\u001b[39;49m\u001b[39m__init__\u001b[39;49m(\n\u001b[1;32m    435\u001b[0m     in_channels, out_channels, kernel_size_, stride_, padding_, dilation_,\n\u001b[1;32m    436\u001b[0m     \u001b[39mFalse\u001b[39;49;00m, _pair(\u001b[39m0\u001b[39;49m), groups, bias, padding_mode, \u001b[39m*\u001b[39;49m\u001b[39m*\u001b[39;49mfactory_kwargs)\n",
      "File \u001b[0;32m~/.local/lib/python3.10/site-packages/torch/nn/modules/conv.py:131\u001b[0m, in \u001b[0;36m_ConvNd.__init__\u001b[0;34m(self, in_channels, out_channels, kernel_size, stride, padding, dilation, transposed, output_padding, groups, bias, padding_mode, device, dtype)\u001b[0m\n\u001b[1;32m    128\u001b[0m     \u001b[39mself\u001b[39m\u001b[39m.\u001b[39mweight \u001b[39m=\u001b[39m Parameter(torch\u001b[39m.\u001b[39mempty(\n\u001b[1;32m    129\u001b[0m         (in_channels, out_channels \u001b[39m/\u001b[39m\u001b[39m/\u001b[39m groups, \u001b[39m*\u001b[39mkernel_size), \u001b[39m*\u001b[39m\u001b[39m*\u001b[39mfactory_kwargs))\n\u001b[1;32m    130\u001b[0m \u001b[39melse\u001b[39;00m:\n\u001b[0;32m--> 131\u001b[0m     \u001b[39mself\u001b[39m\u001b[39m.\u001b[39mweight \u001b[39m=\u001b[39m Parameter(torch\u001b[39m.\u001b[39;49mempty(\n\u001b[1;32m    132\u001b[0m         (out_channels, in_channels \u001b[39m/\u001b[39;49m\u001b[39m/\u001b[39;49m groups, \u001b[39m*\u001b[39;49mkernel_size), \u001b[39m*\u001b[39;49m\u001b[39m*\u001b[39;49mfactory_kwargs))\n\u001b[1;32m    133\u001b[0m \u001b[39mif\u001b[39;00m bias:\n\u001b[1;32m    134\u001b[0m     \u001b[39mself\u001b[39m\u001b[39m.\u001b[39mbias \u001b[39m=\u001b[39m Parameter(torch\u001b[39m.\u001b[39mempty(out_channels, \u001b[39m*\u001b[39m\u001b[39m*\u001b[39mfactory_kwargs))\n",
      "\u001b[0;31mTypeError\u001b[0m: empty(): argument 'size' must be tuple of ints, but found element of type float at pos 2"
     ]
    }
   ],
   "source": [
    "\n",
    "class Environment(object):\n",
    "    def __init__(self, agents = None, actions = None):\n",
    "        self.state = np.zeros(STR_LENGHT)\n",
    "        self.state[0] = 1\n",
    "        self.state[STR_LENGHT - 1] = 1\n",
    "        self.action_space = [0, 1]\n",
    "        self.action_space_size = len(self.action_space)\n",
    "        self.action_space_size = len(self.action_space)\n",
    "        self.reset()\n",
    "        self.render()\n",
    "\n",
    "    def reset(self):\n",
    "        self.state = np.zeros(STR_LENGHT)\n",
    "        self.state[0] = 1\n",
    "        self.state[STR_LENGHT - 1] = 1\n",
    "        self.render()\n",
    "\n",
    "    def step(self, action):\n",
    "        if action == 0:\n",
    "            self.state[0] = 0\n",
    "            self.state[1] = 1\n",
    "        elif action == 1:\n",
    "            self.state[STR_LENGHT - 1] = 0\n",
    "            self.state[STR_LENGHT - 2] = 1\n",
    "        self.render()\n",
    "        reward = self.get_reward()\n",
    "        done = self.is_done()\n",
    "        return self.state, reward, done, {}\n",
    "\n",
    "    def render(self):\n",
    "        print(self.state)\n",
    "\n",
    "    def is_done(self):\n",
    "        if (self.state[0] == 1 and self.state[STR_LENGHT - 1] == 1):\n",
    "            return True\n",
    "        else:\n",
    "            return False\n",
    "\n",
    "    def get_reward(self):\n",
    "        if (self.state[0] == 1 and self.state[STR_LENGHT - 1] == 1):\n",
    "            return 1\n",
    "        else:\n",
    "            return 0"
   ]
  },
  {
   "cell_type": "code",
   "execution_count": null,
   "metadata": {},
   "outputs": [],
   "source": []
  },
  {
   "cell_type": "code",
   "execution_count": null,
   "metadata": {},
   "outputs": [],
   "source": [
    "pygame.init()\n",
    "screen = pygame.display.set_mode((MULT*RES,MULT*RES), 0, 24)\n"
   ]
  }
 ],
 "metadata": {
  "kernelspec": {
   "display_name": "Python 3.10.5 64-bit",
   "language": "python",
   "name": "python3"
  },
  "language_info": {
   "codemirror_mode": {
    "name": "ipython",
    "version": 3
   },
   "file_extension": ".py",
   "mimetype": "text/x-python",
   "name": "python",
   "nbconvert_exporter": "python",
   "pygments_lexer": "ipython3",
   "version": "3.10.5"
  },
  "orig_nbformat": 4,
  "vscode": {
   "interpreter": {
    "hash": "e7370f93d1d0cde622a1f8e1c04877d8463912d04d973331ad4851f04de6915a"
   }
  }
 },
 "nbformat": 4,
 "nbformat_minor": 2
}
