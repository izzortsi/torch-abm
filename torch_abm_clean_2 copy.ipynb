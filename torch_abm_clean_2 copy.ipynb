{
 "cells": [
  {
   "cell_type": "code",
   "execution_count": 1,
   "metadata": {},
   "outputs": [
    {
     "name": "stdout",
     "output_type": "stream",
     "text": [
      "pygame 2.1.2 (SDL 2.0.16, Python 3.10.5)\n",
      "Hello from the pygame community. https://www.pygame.org/contribute.html\n"
     ]
    }
   ],
   "source": [
    "import numpy as np\n",
    "import matplotlib.pyplot as plt\n",
    "\n",
    "import torch as t\n",
    "import torch.nn as nn\n",
    "import torch.nn.functional as F\n",
    "\n",
    "from IPython import display\n",
    "import time\n",
    "\n",
    "from math import *\n",
    "\n",
    "from torchvision.transforms.functional import rotate\n",
    "\n",
    "import pygame\n",
    "\n",
    "DEVICE = \"cuda\""
   ]
  },
  {
   "cell_type": "code",
   "execution_count": 182,
   "metadata": {},
   "outputs": [],
   "source": [
    "NUM_AGENTS = 16\n",
    "NUM_STATES = 3\n",
    "NUM_PERCEPTIONS = 16\n",
    "NUM_ACTIONS = 2\n",
    "RADIUS = 16\n",
    "RES = 64\n",
    "\n",
    "def to_plt(img, detach=True): \n",
    "    return img.squeeze(0).permute(1, 2, 0).detach().cpu().numpy() if detach \\\n",
    "        else img.squeeze(0).permute(1, 2, 0).cpu().numpy()\n",
    "\n",
    "\n",
    "class RadConv(nn.Module):\n",
    "    def __init__(self, NI, NO, radius):\n",
    "        super().__init__()\n",
    "        self.conv = nn.Conv2d(NI, NO, 2*radius+1, padding=radius, padding_mode='circular', bias=None)\n",
    "        \n",
    "        avg_weight = t.zeros_like(self.conv.weight.data)\n",
    "        \n",
    "        for theta in np.arange(0,2*pi,pi/64.0):\n",
    "            avg_weight += rotate(self.conv.weight.data.detach().clone(), 180*theta/pi)/128.0\n",
    "        # for theta in np.arange(0,2*t.pi,t.pi/256.0):\n",
    "        #     avg_weight += rotate(self.conv.weight.data.detach().clone(), 180*theta/t.pi)/np.sqrt(512.0)\n",
    "                    \n",
    "        self.conv.weight.data = np.pi*avg_weight\n",
    "    \n",
    "    def forward(self, x):\n",
    "        return self.conv(x)\n",
    "        \n",
    "class SimpleConvNet(nn.Module):\n",
    "    def __init__(self, NI, NO = 1, radius=3):\n",
    "\n",
    "        super().__init__()\n",
    "        \n",
    "        self.conv = RadConv(NI, NO, radius)\n",
    "        # self.conv = nn.Conv2d(NI, NO, 2*radius+1, padding=radius, padding_mode='circular', bias=None)\n",
    "        self.relu = nn.ReLU()\n",
    "        self.thresh = nn.Threshold(0.5, 0)\n",
    "        self.sigmoid = nn.Sigmoid()\n",
    "        self.glu = nn.GLU()\n",
    "        \n",
    "\n",
    "    def forward(self, x):\n",
    "        x = self.conv(x)\n",
    "        # x = self.relu(x)\n",
    "        # x = self.sigmoid(x)\n",
    "        # x = self.thresh(x)\n",
    "        # x = t.clamp(x, 0, 1)\n",
    "        x = t.heaviside((x - 0.5*t.min(x)), t.cuda.FloatTensor([0]))\n",
    "        return x        "
   ]
  },
  {
   "cell_type": "code",
   "execution_count": 183,
   "metadata": {},
   "outputs": [
    {
     "data": {
      "text/plain": [
       "(tensor([[1, 1],\n",
       "         [1, 1],\n",
       "         [1, 0],\n",
       "         [1, 0],\n",
       "         [0, 1],\n",
       "         [1, 1],\n",
       "         [1, 1],\n",
       "         [0, 0],\n",
       "         [1, 1],\n",
       "         [0, 0],\n",
       "         [0, 0],\n",
       "         [1, 0],\n",
       "         [0, 0],\n",
       "         [1, 0],\n",
       "         [0, 1],\n",
       "         [0, 1]], device='cuda:0'),\n",
       " tensor([[2],\n",
       "         [1],\n",
       "         [2],\n",
       "         [2],\n",
       "         [2],\n",
       "         [1],\n",
       "         [1],\n",
       "         [1],\n",
       "         [1],\n",
       "         [1],\n",
       "         [2],\n",
       "         [1],\n",
       "         [2],\n",
       "         [1],\n",
       "         [1],\n",
       "         [2]], device='cuda:0'),\n",
       " tensor([[2, 2],\n",
       "         [1, 1],\n",
       "         [2, 0],\n",
       "         [2, 0],\n",
       "         [0, 2],\n",
       "         [1, 1],\n",
       "         [1, 1],\n",
       "         [0, 0],\n",
       "         [1, 1],\n",
       "         [0, 0],\n",
       "         [0, 0],\n",
       "         [1, 0],\n",
       "         [0, 0],\n",
       "         [1, 0],\n",
       "         [0, 1],\n",
       "         [0, 2]], device='cuda:0'),\n",
       " tensor([[ 1, 13],\n",
       "         [56, 54],\n",
       "         [62, 17],\n",
       "         [20,  7],\n",
       "         [ 0, 48],\n",
       "         [41, 38],\n",
       "         [23, 23],\n",
       "         [49, 13],\n",
       "         [29, 39],\n",
       "         [43, 34],\n",
       "         [63, 21],\n",
       "         [40, 50],\n",
       "         [31,  0],\n",
       "         [18, 21],\n",
       "         [40, 19],\n",
       "         [37, 54]], device='cuda:0'))"
      ]
     },
     "execution_count": 183,
     "metadata": {},
     "output_type": "execute_result"
    }
   ],
   "source": [
    "positions = t.randint(RES, (NUM_AGENTS, 2)).cuda()\n",
    "directions = t.randint(2, (NUM_AGENTS, 2)).cuda()\n",
    "speeds = t.randint(1, 1+RES//32, (NUM_AGENTS, 1)).cuda()\n",
    "states = t.randint(255, (NUM_AGENTS, 3)).cuda()\n",
    "perceptions = t.rand((NUM_AGENTS, NUM_PERCEPTIONS)).cuda()\n",
    "# positions, directions, speeds, states, perceptions\n",
    "directions, speeds, directions*speeds, positions"
   ]
  },
  {
   "cell_type": "code",
   "execution_count": 184,
   "metadata": {},
   "outputs": [],
   "source": [
    "# positions = t.randint(RES, (1, 2)).cuda()\n",
    "# positions[0], positions[0, :], positions[0, 0], positions[0, 1]"
   ]
  },
  {
   "cell_type": "code",
   "execution_count": 185,
   "metadata": {},
   "outputs": [],
   "source": [
    "# world = t.zeros((1, 3, RES, RES), dtype=t.long).cuda()\n",
    "# world[0, :, 10, 10] = states[0]"
   ]
  },
  {
   "cell_type": "code",
   "execution_count": 186,
   "metadata": {},
   "outputs": [],
   "source": [
    "# world[0, :, 10, 10]"
   ]
  },
  {
   "cell_type": "code",
   "execution_count": 187,
   "metadata": {},
   "outputs": [
    {
     "name": "stdout",
     "output_type": "stream",
     "text": [
      "tensor([109, 190, 140])\n",
      "1 13 tensor([109, 190, 140])\n",
      "tensor([ 91,  24, 147])\n",
      "56 54 tensor([ 91,  24, 147])\n",
      "tensor([147, 217, 124])\n",
      "62 17 tensor([147, 217, 124])\n",
      "tensor([ 43, 232, 101])\n",
      "20 7 tensor([ 43, 232, 101])\n",
      "tensor([ 44, 171,  42])\n",
      "0 48 tensor([ 44, 171,  42])\n",
      "tensor([162,  73,  80])\n",
      "41 38 tensor([162,  73,  80])\n",
      "tensor([ 69,  82, 100])\n",
      "23 23 tensor([ 69,  82, 100])\n",
      "tensor([  7, 127, 226])\n",
      "49 13 tensor([  7, 127, 226])\n",
      "tensor([46, 73, 46])\n",
      "29 39 tensor([46, 73, 46])\n",
      "tensor([134,  65,  10])\n",
      "43 34 tensor([134,  65,  10])\n",
      "tensor([ 42, 153, 127])\n",
      "63 21 tensor([ 42, 153, 127])\n",
      "tensor([173, 137, 181])\n",
      "40 50 tensor([173, 137, 181])\n",
      "tensor([133,  79, 168])\n",
      "31 0 tensor([133,  79, 168])\n",
      "tensor([246, 239, 112])\n",
      "18 21 tensor([246, 239, 112])\n",
      "tensor([229, 250,  73])\n",
      "40 19 tensor([229, 250,  73])\n",
      "tensor([156, 113,  96])\n",
      "37 54 tensor([156, 113,  96])\n"
     ]
    }
   ],
   "source": [
    "world = t.zeros((1, 3, RES, RES), dtype=t.long)\n",
    "for i in range(NUM_AGENTS):\n",
    "    state = states[i].cpu(); print(state)\n",
    "    x_i = positions[i, 0].cpu().numpy()\n",
    "    y_i = positions[i, 1].cpu().numpy()\n",
    "    print(x_i, y_i, state)\n",
    "    world[0, :, x_i, y_i] = state\n",
    "    # world[0, 1, positions[i, 0], positions[i, 1]] = directions[i, 0]\n",
    "    # world[0, 2, positions[i, 0], positions[i, 1]] = directions[i, 1]\n"
   ]
  },
  {
   "cell_type": "code",
   "execution_count": 188,
   "metadata": {},
   "outputs": [
    {
     "data": {
      "text/plain": [
       "tensor([0, 0, 0])"
      ]
     },
     "execution_count": 188,
     "metadata": {},
     "output_type": "execute_result"
    }
   ],
   "source": [
    "world[0, :, 50, 31]    "
   ]
  },
  {
   "cell_type": "code",
   "execution_count": 189,
   "metadata": {},
   "outputs": [
    {
     "data": {
      "text/plain": [
       "<matplotlib.image.AxesImage at 0x7fb4264fa5c0>"
      ]
     },
     "execution_count": 189,
     "metadata": {},
     "output_type": "execute_result"
    },
    {
     "data": {
      "image/png": "[encoded data removed]",
      "text/plain": [
       "<Figure size 576x576 with 1 Axes>"
      ]
     },
     "metadata": {
      "needs_background": "light"
     },
     "output_type": "display_data"
    }
   ],
   "source": [
    "f, axs = plt.subplots(1,figsize=(8,8))\n",
    "axs.imshow(to_plt(world))"
   ]
  },
  {
   "cell_type": "code",
   "execution_count": 190,
   "metadata": {},
   "outputs": [
    {
     "data": {
      "text/plain": [
       "(tensor([[0.4470, 0.5432, 0.4329]], device='cuda:0'), torch.Size([1, 3]))"
      ]
     },
     "execution_count": 190,
     "metadata": {},
     "output_type": "execute_result"
    }
   ],
   "source": [
    "to_plt(world).shape\n",
    "\n",
    "avg_pool = F.adaptive_avg_pool2d(world.type(t.cuda.FloatTensor), (1, 1)).squeeze(3).squeeze(2)\n",
    "avg_pool, avg_pool.shape\n"
   ]
  },
  {
   "cell_type": "code",
   "execution_count": 191,
   "metadata": {},
   "outputs": [
    {
     "data": {
      "text/plain": [
       "torch.Size([1, 3])"
      ]
     },
     "execution_count": 191,
     "metadata": {},
     "output_type": "execute_result"
    }
   ],
   "source": [
    "avg_pool.shape"
   ]
  },
  {
   "cell_type": "code",
   "execution_count": 192,
   "metadata": {},
   "outputs": [],
   "source": [
    "    \n",
    "\n",
    "class Agent(nn.Module):\n",
    "    \n",
    "    def __init__(self, env, position = t.cuda.LongTensor(np.random.randint(RES, size=2)), action = t.cuda.FloatTensor(np.random.randint(1, RES//32, size=2)), state = t.rand(1, NUM_STATES).cuda(), perception = t.rand(1, NUM_PERCEPTIONS).cuda()):\n",
    "        super().__init__()\n",
    "        self.env = env\n",
    "        self.position = position; print(self.position.shape); print(position); \n",
    "        self.action = action; print(self.action.shape)\n",
    "        self.state = state; print(self.state.shape)\n",
    "        self.perception = perception; print(self.perception.shape)\n",
    "        self.perceptive_field = None\n",
    "\n",
    "        # self.action = action.view(-1, 1); print(self.action.shape)\n",
    "        # self.state = state.view(-1, 1); print(self.state.shape)\n",
    "        # self.perception = perception.view(-1, 1); print(self.perception.shape)\n",
    "        self.config = t.cat([self.perception.view(-1, NUM_PERCEPTIONS), self.state.view(-1, NUM_STATES), self.action.view(-1, NUM_ACTIONS)], dim = 1).cuda(); #print(self.config.shape)\n",
    "        \n",
    "        self.env.world[0, :, self.position[0, 0], self.position[0, 1]] = self.config\n",
    "        self.env.states[0, :, self.position[0, 0], self.position[0, 1]] = self.state\n",
    "        \n",
    "        # self.config = t.cat([self.perception, self.state, self.action], dim = 1); print(self.config.shape)\n",
    "        self.P = RadConv(NI = NUM_PERCEPTIONS+NUM_STATES+NUM_ACTIONS, NO = NUM_PERCEPTIONS, radius = RADIUS).cuda(); #things in the environment; other agents states, their perception etc; NUM_AGENTS x NUM_STATES x NUM_PERCEPTIONS\n",
    "        self.max_pool = lambda x: F.adaptive_max_pool2d(x.type(t.cuda.FloatTensor), (1, 1)).cuda().squeeze(3).squeeze(2)\n",
    "        # self.conv = nn.Conv2d(NUM_AGENTS*NUM_PERCEPTIONS*NUM_STATES, NUM_PERCEPTIONS*NUM_STATES, 2*radius+1, padding=radius, padding_mode='circular', bias=None)\n",
    "        # self.S = nn.Linear(RES*RES*(NUM_PERCEPTIONS), NUM_STATES, bias=False).cuda()\n",
    "        # self.A = nn.Linear(RES*RES*(NUM_PERCEPTIONS), NUM_ACTIONS, bias=False).cuda()\n",
    "        self.S = nn.Linear(NUM_PERCEPTIONS, NUM_STATES, bias=False).cuda()\n",
    "        self.A = nn.Linear(NUM_PERCEPTIONS, NUM_ACTIONS, bias=False).cuda()\n",
    "\n",
    "        # self.fc3 = nn.Linear(NUM_PERCEPTIONS+NUM_STATES, NUM_STATES)\n",
    "        # self.fc4 = nn.Linear(NUM_PERCEPTIONS+NUM_STATES, NUM_ACTIONS)\n",
    "\n",
    "    def forward(self, world):\n",
    "        \n",
    "        perceptive_field = self.P(world); \n",
    "        self.perceptive_field = perceptive_field\n",
    "        self.perception = self.max_pool(perceptive_field); print(\"perception: \", self.perception, self.perception.shape)\n",
    "        self.state = self.S(self.perception); print(\"state: \", self.state); print(self.state.shape)\n",
    "        self.action = self.A(self.perception).type(t.cuda.LongTensor); print(self.action); print(self.action.shape)\n",
    "        \n",
    "        #update position\n",
    "        self.position = (self.position + self.action) % RES; print(self.position); print(self.position.shape)\n",
    "        #update config\n",
    "        self.config = t.tensor(t.cat([self.perception, self.state, self.action], dim=1)).cuda(); print(self.config); print(self.config.shape)\n",
    "\n",
    "        self.env.world[0, :, self.position[0, 0], self.position[0, 1]] = self.config\n",
    "        self.env.states[0, :, self.position[0, 0], self.position[0, 1]] = self.state\n",
    "        \n",
    "        return self.config"
   ]
  },
  {
   "cell_type": "code",
   "execution_count": 193,
   "metadata": {},
   "outputs": [],
   "source": [
    "class Environment(nn.Module):\n",
    "    def __init__(self, num_agents = NUM_AGENTS, num_states = NUM_STATES, num_perceptions = NUM_PERCEPTIONS, num_actions = NUM_ACTIONS, radius = RADIUS, size = RES):\n",
    "        super(Environment, self).__init__()\n",
    "        \n",
    "        self.num_agents = num_agents\n",
    "        # self.agents = [Agent(self) for i in range(num_agents)]\n",
    "        self.num_states = num_states\n",
    "        self.num_perceptions = num_perceptions\n",
    "        self.num_actions = num_actions\n",
    "        self.radius = radius\n",
    "        self.size = size\n",
    "\n",
    "        self.world = t.zeros((1, num_perceptions+num_states+num_actions, size, size), dtype=t.float).cuda() \n",
    "        self.states = t.zeros((1, num_states, size, size), dtype=t.float).cuda() \n",
    "\n",
    "        self.agents = []\n",
    "        self.add_agents()\n",
    "        \n",
    "    def add_agents(self, num_agents = None):\n",
    "        if num_agents is None:\n",
    "            num_agents = self.num_agents\n",
    "        for i in range(num_agents):    \n",
    "            position = t.randint(RES, (1, 2)).cuda()\n",
    "            direction = t.randint(2, (1, 2)).cuda()\n",
    "            speed = t.randint(1, 1+RES//32, (1, 1)).cuda()\n",
    "            state = t.randint(255, (1, 3)).cuda()\n",
    "            perception = t.rand((1, NUM_PERCEPTIONS)).cuda()\n",
    "            action = direction*speeds\n",
    "            self.agents.append(Agent(self, position = position, action = direction*speed, state = state, perception = perception))\n",
    "\n",
    "    @property\n",
    "    def positions(self):\n",
    "        return [a.position for a in self.agents]\n",
    "\n",
    "    def update(self, x = None):\n",
    "    \n",
    "        self.world = t.zeros((1, self.num_perceptions+self.num_states+self.num_actions, self.size, self.size), dtype=t.float).cuda() \n",
    "        self.states = t.zeros((1, self.num_states, self.size, self.size), dtype=t.float).cuda() \n",
    "        \n",
    "        for agent in self.agents:\n",
    "            agent.forward(self.world)\n",
    "\n",
    "    def forward(self):\n",
    "        return self.update()"
   ]
  },
  {
   "cell_type": "code",
   "execution_count": 194,
   "metadata": {},
   "outputs": [
    {
     "name": "stdout",
     "output_type": "stream",
     "text": [
      "torch.Size([1, 2])\n",
      "tensor([[53, 48]], device='cuda:0')\n",
      "torch.Size([1, 2])\n",
      "torch.Size([1, 3])\n",
      "torch.Size([1, 16])\n",
      "torch.Size([1, 2])\n",
      "tensor([[63, 37]], device='cuda:0')\n",
      "torch.Size([1, 2])\n",
      "torch.Size([1, 3])\n",
      "torch.Size([1, 16])\n",
      "torch.Size([1, 2])\n",
      "tensor([[20, 50]], device='cuda:0')\n",
      "torch.Size([1, 2])\n",
      "torch.Size([1, 3])\n",
      "torch.Size([1, 16])\n",
      "torch.Size([1, 2])\n",
      "tensor([[15, 17]], device='cuda:0')\n",
      "torch.Size([1, 2])\n",
      "torch.Size([1, 3])\n",
      "torch.Size([1, 16])\n",
      "torch.Size([1, 2])\n",
      "tensor([[60, 20]], device='cuda:0')\n",
      "torch.Size([1, 2])\n",
      "torch.Size([1, 3])\n",
      "torch.Size([1, 16])\n",
      "torch.Size([1, 2])\n",
      "tensor([[36, 29]], device='cuda:0')\n",
      "torch.Size([1, 2])\n",
      "torch.Size([1, 3])\n",
      "torch.Size([1, 16])\n",
      "torch.Size([1, 2])\n",
      "tensor([[38, 12]], device='cuda:0')\n",
      "torch.Size([1, 2])\n",
      "torch.Size([1, 3])\n",
      "torch.Size([1, 16])\n",
      "torch.Size([1, 2])\n",
      "tensor([[63,  0]], device='cuda:0')\n",
      "torch.Size([1, 2])\n",
      "torch.Size([1, 3])\n",
      "torch.Size([1, 16])\n",
      "torch.Size([1, 2])\n",
      "tensor([[47,  9]], device='cuda:0')\n",
      "torch.Size([1, 2])\n",
      "torch.Size([1, 3])\n",
      "torch.Size([1, 16])\n",
      "torch.Size([1, 2])\n",
      "tensor([[20,  8]], device='cuda:0')\n",
      "torch.Size([1, 2])\n",
      "torch.Size([1, 3])\n",
      "torch.Size([1, 16])\n",
      "torch.Size([1, 2])\n",
      "tensor([[18, 21]], device='cuda:0')\n",
      "torch.Size([1, 2])\n",
      "torch.Size([1, 3])\n",
      "torch.Size([1, 16])\n",
      "torch.Size([1, 2])\n",
      "tensor([[63, 16]], device='cuda:0')\n",
      "torch.Size([1, 2])\n",
      "torch.Size([1, 3])\n",
      "torch.Size([1, 16])\n",
      "torch.Size([1, 2])\n",
      "tensor([[61, 37]], device='cuda:0')\n",
      "torch.Size([1, 2])\n",
      "torch.Size([1, 3])\n",
      "torch.Size([1, 16])\n",
      "torch.Size([1, 2])\n",
      "tensor([[12, 41]], device='cuda:0')\n",
      "torch.Size([1, 2])\n",
      "torch.Size([1, 3])\n",
      "torch.Size([1, 16])\n",
      "torch.Size([1, 2])\n",
      "tensor([[14, 62]], device='cuda:0')\n",
      "torch.Size([1, 2])\n",
      "torch.Size([1, 3])\n",
      "torch.Size([1, 16])\n",
      "torch.Size([1, 2])\n",
      "tensor([[23,  2]], device='cuda:0')\n",
      "torch.Size([1, 2])\n",
      "torch.Size([1, 3])\n",
      "torch.Size([1, 16])\n"
     ]
    }
   ],
   "source": [
    "E = Environment().cuda()\n",
    "# a = Agent(E).cuda()\n"
   ]
  },
  {
   "cell_type": "code",
   "execution_count": 195,
   "metadata": {},
   "outputs": [
    {
     "data": {
      "text/plain": [
       "[tensor([[53, 48]], device='cuda:0'),\n",
       " tensor([[63, 37]], device='cuda:0'),\n",
       " tensor([[20, 50]], device='cuda:0'),\n",
       " tensor([[15, 17]], device='cuda:0'),\n",
       " tensor([[60, 20]], device='cuda:0'),\n",
       " tensor([[36, 29]], device='cuda:0'),\n",
       " tensor([[38, 12]], device='cuda:0'),\n",
       " tensor([[63,  0]], device='cuda:0'),\n",
       " tensor([[47,  9]], device='cuda:0'),\n",
       " tensor([[20,  8]], device='cuda:0'),\n",
       " tensor([[18, 21]], device='cuda:0'),\n",
       " tensor([[63, 16]], device='cuda:0'),\n",
       " tensor([[61, 37]], device='cuda:0'),\n",
       " tensor([[12, 41]], device='cuda:0'),\n",
       " tensor([[14, 62]], device='cuda:0'),\n",
       " tensor([[23,  2]], device='cuda:0')]"
      ]
     },
     "execution_count": 195,
     "metadata": {},
     "output_type": "execute_result"
    }
   ],
   "source": [
    "E.positions"
   ]
  },
  {
   "cell_type": "code",
   "execution_count": 196,
   "metadata": {},
   "outputs": [
    {
     "data": {
      "text/plain": [
       "<matplotlib.image.AxesImage at 0x7fb3c7d4b400>"
      ]
     },
     "execution_count": 196,
     "metadata": {},
     "output_type": "execute_result"
    },
    {
     "data": {
      "image/png": "[encoded data removed]",
      "text/plain": [
       "<Figure size 576x576 with 1 Axes>"
      ]
     },
     "metadata": {
      "needs_background": "light"
     },
     "output_type": "display_data"
    }
   ],
   "source": [
    "f, axs = plt.subplots(1,figsize=(8,8))\n",
    "axs.imshow(to_plt(E.states).astype(np.uint8))"
   ]
  },
  {
   "cell_type": "code",
   "execution_count": 197,
   "metadata": {},
   "outputs": [
    {
     "name": "stdout",
     "output_type": "stream",
     "text": [
      "perception:  tensor([[0., 0., 0., 0., 0., 0., 0., 0., 0., 0., 0., 0., 0., 0., 0., 0.]],\n",
      "       device='cuda:0', grad_fn=<SqueezeBackward1>) torch.Size([1, 16])\n",
      "state:  tensor([[0., 0., 0.]], device='cuda:0', grad_fn=<MmBackward0>)\n",
      "torch.Size([1, 3])\n",
      "tensor([[0, 0]], device='cuda:0')\n",
      "torch.Size([1, 2])\n",
      "tensor([[53, 48]], device='cuda:0')\n",
      "torch.Size([1, 2])\n",
      "tensor([[0., 0., 0., 0., 0., 0., 0., 0., 0., 0., 0., 0., 0., 0., 0., 0., 0., 0., 0., 0., 0.]],\n",
      "       device='cuda:0')\n",
      "torch.Size([1, 21])\n",
      "perception:  tensor([[0., 0., 0., 0., 0., 0., 0., 0., 0., 0., 0., 0., 0., 0., 0., 0.]],\n",
      "       device='cuda:0', grad_fn=<SqueezeBackward1>) torch.Size([1, 16])\n",
      "state:  tensor([[0., 0., 0.]], device='cuda:0', grad_fn=<MmBackward0>)\n",
      "torch.Size([1, 3])\n",
      "tensor([[0, 0]], device='cuda:0')\n",
      "torch.Size([1, 2])\n",
      "tensor([[63, 37]], device='cuda:0')\n",
      "torch.Size([1, 2])\n",
      "tensor([[0., 0., 0., 0., 0., 0., 0., 0., 0., 0., 0., 0., 0., 0., 0., 0., 0., 0., 0., 0., 0.]],\n",
      "       device='cuda:0')\n",
      "torch.Size([1, 21])\n",
      "perception:  tensor([[0., 0., 0., 0., 0., 0., 0., 0., 0., 0., 0., 0., 0., 0., 0., 0.]],\n",
      "       device='cuda:0', grad_fn=<SqueezeBackward1>) torch.Size([1, 16])\n",
      "state:  tensor([[0., 0., 0.]], device='cuda:0', grad_fn=<MmBackward0>)\n",
      "torch.Size([1, 3])\n",
      "tensor([[0, 0]], device='cuda:0')\n",
      "torch.Size([1, 2])\n",
      "tensor([[20, 50]], device='cuda:0')\n",
      "torch.Size([1, 2])\n",
      "tensor([[0., 0., 0., 0., 0., 0., 0., 0., 0., 0., 0., 0., 0., 0., 0., 0., 0., 0., 0., 0., 0.]],\n",
      "       device='cuda:0')\n",
      "torch.Size([1, 21])\n",
      "perception:  tensor([[0., 0., 0., 0., 0., 0., 0., 0., 0., 0., 0., 0., 0., 0., 0., 0.]],\n",
      "       device='cuda:0', grad_fn=<SqueezeBackward1>) torch.Size([1, 16])\n",
      "state:  tensor([[0., 0., 0.]], device='cuda:0', grad_fn=<MmBackward0>)\n",
      "torch.Size([1, 3])\n",
      "tensor([[0, 0]], device='cuda:0')\n",
      "torch.Size([1, 2])\n",
      "tensor([[15, 17]], device='cuda:0')\n",
      "torch.Size([1, 2])\n",
      "tensor([[0., 0., 0., 0., 0., 0., 0., 0., 0., 0., 0., 0., 0., 0., 0., 0., 0., 0., 0., 0., 0.]],\n",
      "       device='cuda:0')\n",
      "torch.Size([1, 21])\n",
      "perception:  tensor([[0., 0., 0., 0., 0., 0., 0., 0., 0., 0., 0., 0., 0., 0., 0., 0.]],\n",
      "       device='cuda:0', grad_fn=<SqueezeBackward1>) torch.Size([1, 16])\n",
      "state:  tensor([[0., 0., 0.]], device='cuda:0', grad_fn=<MmBackward0>)\n",
      "torch.Size([1, 3])\n",
      "tensor([[0, 0]], device='cuda:0')\n",
      "torch.Size([1, 2])\n",
      "tensor([[60, 20]], device='cuda:0')\n",
      "torch.Size([1, 2])\n",
      "tensor([[0., 0., 0., 0., 0., 0., 0., 0., 0., 0., 0., 0., 0., 0., 0., 0., 0., 0., 0., 0., 0.]],\n",
      "       device='cuda:0')\n",
      "torch.Size([1, 21])\n",
      "perception:  tensor([[0., 0., 0., 0., 0., 0., 0., 0., 0., 0., 0., 0., 0., 0., 0., 0.]],\n",
      "       device='cuda:0', grad_fn=<SqueezeBackward1>) torch.Size([1, 16])\n",
      "state:  tensor([[0., 0., 0.]], device='cuda:0', grad_fn=<MmBackward0>)\n",
      "torch.Size([1, 3])\n",
      "tensor([[0, 0]], device='cuda:0')\n",
      "torch.Size([1, 2])\n",
      "tensor([[36, 29]], device='cuda:0')\n",
      "torch.Size([1, 2])\n",
      "tensor([[0., 0., 0., 0., 0., 0., 0., 0., 0., 0., 0., 0., 0., 0., 0., 0., 0., 0., 0., 0., 0.]],\n",
      "       device='cuda:0')\n",
      "torch.Size([1, 21])\n",
      "perception:  tensor([[0., 0., 0., 0., 0., 0., 0., 0., 0., 0., 0., 0., 0., 0., 0., 0.]],\n",
      "       device='cuda:0', grad_fn=<SqueezeBackward1>) torch.Size([1, 16])\n",
      "state:  tensor([[0., 0., 0.]], device='cuda:0', grad_fn=<MmBackward0>)\n",
      "torch.Size([1, 3])\n",
      "tensor([[0, 0]], device='cuda:0')\n",
      "torch.Size([1, 2])\n",
      "tensor([[38, 12]], device='cuda:0')\n",
      "torch.Size([1, 2])\n"
     ]
    },
    {
     "name": "stderr",
     "output_type": "stream",
     "text": [
      "/tmp/ipykernel_1506568/1700001880.py:43: UserWarning: To copy construct from a tensor, it is recommended to use sourceTensor.clone().detach() or sourceTensor.clone().detach().requires_grad_(True), rather than torch.tensor(sourceTensor).\n",
      "  self.config = t.tensor(t.cat([self.perception, self.state, self.action], dim=1)).cuda(); print(self.config); print(self.config.shape)\n"
     ]
    },
    {
     "name": "stdout",
     "output_type": "stream",
     "text": [
      "tensor([[0., 0., 0., 0., 0., 0., 0., 0., 0., 0., 0., 0., 0., 0., 0., 0., 0., 0., 0., 0., 0.]],\n",
      "       device='cuda:0')\n",
      "torch.Size([1, 21])\n",
      "perception:  tensor([[0., 0., 0., 0., 0., 0., 0., 0., 0., 0., 0., 0., 0., 0., 0., 0.]],\n",
      "       device='cuda:0', grad_fn=<SqueezeBackward1>) torch.Size([1, 16])\n",
      "state:  tensor([[0., 0., 0.]], device='cuda:0', grad_fn=<MmBackward0>)\n",
      "torch.Size([1, 3])\n",
      "tensor([[0, 0]], device='cuda:0')\n",
      "torch.Size([1, 2])\n",
      "tensor([[63,  0]], device='cuda:0')\n",
      "torch.Size([1, 2])\n",
      "tensor([[0., 0., 0., 0., 0., 0., 0., 0., 0., 0., 0., 0., 0., 0., 0., 0., 0., 0., 0., 0., 0.]],\n",
      "       device='cuda:0')\n",
      "torch.Size([1, 21])\n",
      "perception:  tensor([[0., 0., 0., 0., 0., 0., 0., 0., 0., 0., 0., 0., 0., 0., 0., 0.]],\n",
      "       device='cuda:0', grad_fn=<SqueezeBackward1>) torch.Size([1, 16])\n",
      "state:  tensor([[0., 0., 0.]], device='cuda:0', grad_fn=<MmBackward0>)\n",
      "torch.Size([1, 3])\n",
      "tensor([[0, 0]], device='cuda:0')\n",
      "torch.Size([1, 2])\n",
      "tensor([[47,  9]], device='cuda:0')\n",
      "torch.Size([1, 2])\n",
      "tensor([[0., 0., 0., 0., 0., 0., 0., 0., 0., 0., 0., 0., 0., 0., 0., 0., 0., 0., 0., 0., 0.]],\n",
      "       device='cuda:0')\n",
      "torch.Size([1, 21])\n",
      "perception:  tensor([[0., 0., 0., 0., 0., 0., 0., 0., 0., 0., 0., 0., 0., 0., 0., 0.]],\n",
      "       device='cuda:0', grad_fn=<SqueezeBackward1>) torch.Size([1, 16])\n",
      "state:  tensor([[0., 0., 0.]], device='cuda:0', grad_fn=<MmBackward0>)\n",
      "torch.Size([1, 3])\n",
      "tensor([[0, 0]], device='cuda:0')\n",
      "torch.Size([1, 2])\n",
      "tensor([[20,  8]], device='cuda:0')\n",
      "torch.Size([1, 2])\n",
      "tensor([[0., 0., 0., 0., 0., 0., 0., 0., 0., 0., 0., 0., 0., 0., 0., 0., 0., 0., 0., 0., 0.]],\n",
      "       device='cuda:0')\n",
      "torch.Size([1, 21])\n",
      "perception:  tensor([[0., 0., 0., 0., 0., 0., 0., 0., 0., 0., 0., 0., 0., 0., 0., 0.]],\n",
      "       device='cuda:0', grad_fn=<SqueezeBackward1>) torch.Size([1, 16])\n",
      "state:  tensor([[0., 0., 0.]], device='cuda:0', grad_fn=<MmBackward0>)\n",
      "torch.Size([1, 3])\n",
      "tensor([[0, 0]], device='cuda:0')\n",
      "torch.Size([1, 2])\n",
      "tensor([[18, 21]], device='cuda:0')\n",
      "torch.Size([1, 2])\n",
      "tensor([[0., 0., 0., 0., 0., 0., 0., 0., 0., 0., 0., 0., 0., 0., 0., 0., 0., 0., 0., 0., 0.]],\n",
      "       device='cuda:0')\n",
      "torch.Size([1, 21])\n",
      "perception:  tensor([[0., 0., 0., 0., 0., 0., 0., 0., 0., 0., 0., 0., 0., 0., 0., 0.]],\n",
      "       device='cuda:0', grad_fn=<SqueezeBackward1>) torch.Size([1, 16])\n",
      "state:  tensor([[0., 0., 0.]], device='cuda:0', grad_fn=<MmBackward0>)\n",
      "torch.Size([1, 3])\n",
      "tensor([[0, 0]], device='cuda:0')\n",
      "torch.Size([1, 2])\n",
      "tensor([[63, 16]], device='cuda:0')\n",
      "torch.Size([1, 2])\n",
      "tensor([[0., 0., 0., 0., 0., 0., 0., 0., 0., 0., 0., 0., 0., 0., 0., 0., 0., 0., 0., 0., 0.]],\n",
      "       device='cuda:0')\n",
      "torch.Size([1, 21])\n",
      "perception:  tensor([[0., 0., 0., 0., 0., 0., 0., 0., 0., 0., 0., 0., 0., 0., 0., 0.]],\n",
      "       device='cuda:0', grad_fn=<SqueezeBackward1>) torch.Size([1, 16])\n",
      "state:  tensor([[0., 0., 0.]], device='cuda:0', grad_fn=<MmBackward0>)\n",
      "torch.Size([1, 3])\n",
      "tensor([[0, 0]], device='cuda:0')\n",
      "torch.Size([1, 2])\n",
      "tensor([[61, 37]], device='cuda:0')\n",
      "torch.Size([1, 2])\n",
      "tensor([[0., 0., 0., 0., 0., 0., 0., 0., 0., 0., 0., 0., 0., 0., 0., 0., 0., 0., 0., 0., 0.]],\n",
      "       device='cuda:0')\n",
      "torch.Size([1, 21])\n",
      "perception:  tensor([[0., 0., 0., 0., 0., 0., 0., 0., 0., 0., 0., 0., 0., 0., 0., 0.]],\n",
      "       device='cuda:0', grad_fn=<SqueezeBackward1>) torch.Size([1, 16])\n",
      "state:  tensor([[0., 0., 0.]], device='cuda:0', grad_fn=<MmBackward0>)\n",
      "torch.Size([1, 3])\n",
      "tensor([[0, 0]], device='cuda:0')\n",
      "torch.Size([1, 2])\n",
      "tensor([[12, 41]], device='cuda:0')\n",
      "torch.Size([1, 2])\n",
      "tensor([[0., 0., 0., 0., 0., 0., 0., 0., 0., 0., 0., 0., 0., 0., 0., 0., 0., 0., 0., 0., 0.]],\n",
      "       device='cuda:0')\n",
      "torch.Size([1, 21])\n",
      "perception:  tensor([[0., 0., 0., 0., 0., 0., 0., 0., 0., 0., 0., 0., 0., 0., 0., 0.]],\n",
      "       device='cuda:0', grad_fn=<SqueezeBackward1>) torch.Size([1, 16])\n",
      "state:  tensor([[0., 0., 0.]], device='cuda:0', grad_fn=<MmBackward0>)\n",
      "torch.Size([1, 3])\n",
      "tensor([[0, 0]], device='cuda:0')\n",
      "torch.Size([1, 2])\n",
      "tensor([[14, 62]], device='cuda:0')\n",
      "torch.Size([1, 2])\n",
      "tensor([[0., 0., 0., 0., 0., 0., 0., 0., 0., 0., 0., 0., 0., 0., 0., 0., 0., 0., 0., 0., 0.]],\n",
      "       device='cuda:0')\n",
      "torch.Size([1, 21])\n",
      "perception:  tensor([[0., 0., 0., 0., 0., 0., 0., 0., 0., 0., 0., 0., 0., 0., 0., 0.]],\n",
      "       device='cuda:0', grad_fn=<SqueezeBackward1>) torch.Size([1, 16])\n",
      "state:  tensor([[0., 0., 0.]], device='cuda:0', grad_fn=<MmBackward0>)\n",
      "torch.Size([1, 3])\n",
      "tensor([[0, 0]], device='cuda:0')\n",
      "torch.Size([1, 2])\n",
      "tensor([[23,  2]], device='cuda:0')\n",
      "torch.Size([1, 2])\n",
      "tensor([[0., 0., 0., 0., 0., 0., 0., 0., 0., 0., 0., 0., 0., 0., 0., 0., 0., 0., 0., 0., 0.]],\n",
      "       device='cuda:0')\n",
      "torch.Size([1, 21])\n"
     ]
    },
    {
     "data": {
      "text/plain": [
       "<matplotlib.image.AxesImage at 0x7fb3c7f7b5b0>"
      ]
     },
     "execution_count": 197,
     "metadata": {},
     "output_type": "execute_result"
    },
    {
     "data": {
      "image/png": "[encoded data removed]",
      "text/plain": [
       "<Figure size 576x576 with 1 Axes>"
      ]
     },
     "metadata": {
      "needs_background": "light"
     },
     "output_type": "display_data"
    }
   ],
   "source": [
    "E.update()\n",
    "f, axs = plt.subplots(1,figsize=(8,8))\n",
    "axs.imshow(to_plt(E.states).astype(np.uint8))\n",
    "# with t.no_grad():\n",
    "#     E.update()\n",
    "#     f, axs = plt.subplots(1,figsize=(15,15))\n",
    "#     axs.imshow(to_plt(E.states))\n"
   ]
  }
 ],
 "metadata": {
  "kernelspec": {
   "display_name": "Python 3.10.5 64-bit",
   "language": "python",
   "name": "python3"
  },
  "language_info": {
   "codemirror_mode": {
    "name": "ipython",
    "version": 3
   },
   "file_extension": ".py",
   "mimetype": "text/x-python",
   "name": "python",
   "nbconvert_exporter": "python",
   "pygments_lexer": "ipython3",
   "version": "3.10.5"
  },
  "orig_nbformat": 4,
  "vscode": {
   "interpreter": {
    "hash": "e7370f93d1d0cde622a1f8e1c04877d8463912d04d973331ad4851f04de6915a"
   }
  }
 },
 "nbformat": 4,
 "nbformat_minor": 2
}
